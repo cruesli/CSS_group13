{
 "cells": [
  {
   "cell_type": "markdown",
   "id": "5182fd3b-fa90-4a6d-b146-4a5c631368eb",
   "metadata": {},
   "source": [
    "# Formalia\n",
    "\n",
    "Please read the [assignment overview page](https://github.com/TheYuanLiao/comsocsci2025/wiki/Assignments) carefully before proceeding. The page contains information about formatting (including formats etc), group sizes, and many other aspects of handing in the assignment.\n",
    "\n",
    "These exercises are a subset of the exercises you did in class and you could just copy-paste the solution you developed in class.\n",
    "\n",
    "__If you fail to follow these simple instructions, it will negatively impact your grade!__\n",
    "\n",
    "**Due date and time**: The assignment is due on Mar 4th at 23:59. Hand in your Jupyter notebook file (with extension `.ipynb`) via DTU Learn _(Assignment 1)_. \n",
    "\n",
    "Remember to include in the first cell of your notebook:\n",
    "* the link to your group's Git repository \n",
    "* group members' contributions\n"
   ]
  },
  {
   "cell_type": "markdown",
   "id": "323be069",
   "metadata": {},
   "source": [
    "Link to Git repository: \n",
    "\n",
    "# Contributions\n",
    "\n",
    "Simon 33%$\\\\$\n",
    "Gustav 33%$\\\\$\n",
    "Magnus 33%$\\\\$"
   ]
  },
  {
   "cell_type": "markdown",
   "id": "2182d781-3727-4ff5-9b58-689381202a99",
   "metadata": {},
   "source": [
    "## Part 1: Web-scraping\n",
    "Week 1, ex 3."
   ]
  },
  {
   "cell_type": "markdown",
   "id": "281e8e50-307c-4315-bed5-1de2fd37d743",
   "metadata": {},
   "source": [
    "> **Exercise: Web-scraping the list of participants to the International Conference in Computational Social Science**    \n",
    ">\n",
    "> You can find the programme of the 2023 edition of the conference at [this link](https://ic2s2-2023.org/program). As you can see the conference programme included many different contributions: keynote presentations, parallel talks, tutorials, posters. \n",
    "> 1. Inspect the HTML of the page and use web-scraping to get the names of all researchers that contributed to the conference in 2023. The goal is the following: (i) get as many names as possible including: keynote speakers, chairs, authors of parallel talks and authors of posters; (ii) ensure that the collected names are complete and accuarate as reported in the website (e.g. both first name and family name); (iii) ensure that no name is repeated multiple times with slightly different spelling. \n",
    "> 2. Some instructions for success: \n",
    ">    * First, inspect the page through your web browser to identify the elements of the page that you want to collect. Ensure you understand the hierarchical structure of the page, and where the elements you are interested in are located within this nested structure.   \n",
    ">    * Use the [BeautifulSoup Python package](https://pypi.org/project/beautifulsoup4/) to navigate through the hierarchy and extract the elements you need from the page. \n",
    ">    * You can use the [find_all](https://www.crummy.com/software/BeautifulSoup/bs4/doc/#find-all) method to find elements that match specific filters. Check the [documentation](https://www.crummy.com/software/BeautifulSoup/bs4/doc/) of the library for detailed explanations on how to set filters.  \n",
    ">    * Parse the strings to ensure that you retrieve \"clean\" author names (e.g. remove commas, or other unwanted charachters)\n",
    ">    * The overall idea is to adapt the procedure I have used [here](https://nbviewer.org/github/lalessan/comsocsci2023/blob/master/additional_notebooks/ScreenScraping.ipynb) for the specific page you are scraping. \n",
    "> 3. Create the set of unique researchers that joined the conference and *store it into a file*.\n",
    ">     * *Important:* If you notice any issue with the list of names you have collected (e.g. duplicate/incorrect names), come up with a strategy to clean your list as much as possible. \n",
    "> 4. *Optional:* For a more complete represenation of the field, include in your list: (i) the names of researchers from the programme committee of the conference, that can be found at [this link](https://ic2s2-2023.org/program_committee); (ii) the organizers of tutorials, that can be found at [this link](https://ic2s2-2023.org/tutorials)\n",
    "> 5. How many unique researchers do you get?\n",
    "> 6. Explain the process you followed to web-scrape the page. Which choices did you make to accurately retreive as many names as possible? Which strategies did you use to assess the quality of your final list? Explain your reasoning and your choices __(answer in max 150 words)__."
   ]
  },
  {
   "cell_type": "markdown",
   "id": "0a700502",
   "metadata": {},
   "source": [
    "We started by by inspecting the HTML of the page and identified that the names of the speakers were contained within unordered lists (ul) with class name \"nav_list\", and the names of the chair's was contained within a h2 header. Using BeatifulSoups find_all() function we retrieved all ul's with class name \"nav_list\". Within each of the ul's the names of the authors are contained within a <i> tag (italic), which were used to retrieve the names. The process was then to loop through all the ul lists, find all <i> within each list. Then loop through all <i<>s, split up the names and remove unwanted characters to get clean names. The same was done with the h2 headers were the word chair was removed to leave us with the names. Lastly we removed all duplicates. This approach should retrieve all the names from the program page."
   ]
  },
  {
   "cell_type": "code",
   "execution_count": 1,
   "id": "b9ef9e6f",
   "metadata": {},
   "outputs": [
    {
     "name": "stdout",
     "output_type": "stream",
     "text": [
      "Number of unique names: 1523\n"
     ]
    }
   ],
   "source": [
    "from bs4 import BeautifulSoup\n",
    "import requests\n",
    "import re\n",
    "\n",
    "Link = \"https://ic2s2-2023.org/program\"\n",
    "r = requests.get(Link)\n",
    "soup = BeautifulSoup(r.content)\n",
    "\n",
    "ulist = soup.find_all('ul',{'class':'nav_list'})\n",
    "h2s = soup.find_all('h2')\n",
    "names = []\n",
    "for h2 in h2s:\n",
    "    nsl = h2.find_all('i')\n",
    "    if nsl:\n",
    "        ns = str(nsl[0])[10:]\n",
    "        cleaned_ns = re.sub(r\"[^\\w\\s\\,]\", \"\", ns) # Removes any unwanted characters\n",
    "        cleaned_ns = cleaned_ns[:len(cleaned_ns)-1] # Removes the i left over from </i>\n",
    "        names.append(cleaned_ns)\n",
    "for lists in ulist:\n",
    "    nsl = lists.find_all('i')\n",
    "    for nl in nsl:\n",
    "        ns = nl.text.split(', ')\n",
    "        cleaned_ns = [re.sub(r\"[^\\w\\s\\,]\", \"\", n) for n in ns] # Removes any unwanted characters\n",
    "        names.append(cleaned_ns)\n",
    "names = [item for sublist in names for item in sublist] # flatten list\n",
    "unique_names = sorted(list(set(names)), key = lambda name: name[0]) # Remove any duplicates and sort in alphabetical order\n",
    "print(f'Number of unique names: {len(unique_names)}')"
   ]
  },
  {
   "cell_type": "markdown",
   "id": "ac17914c-f125-4f70-b1a5-0c56641a0ea0",
   "metadata": {},
   "source": [
    "## Part 2: Ready Made vs Custom Made Data\n",
    "Week 2, ex 1."
   ]
  },
  {
   "cell_type": "markdown",
   "id": "25059f1b-25c3-47eb-8278-903bd7608576",
   "metadata": {},
   "source": [
    "> **Exercise: Ready made data vs Custom made data** In this exercise, I want to make sure you have understood they key points of my lecture and the reading. \n",
    ">\n",
    "> 1. What are pros and cons of the custom-made data used in Centola's experiment (the first study presented in the lecture) and the ready-made data used in Nicolaides's study (the second study presented in the lecture)? You can support your arguments based on the content of the lecture and the information you read in Chapter 2.3 of the book __(answer in max 150 words)__.\n",
    "> 2. How do you think these differences can influence the interpretation of the results in each study? __(answer in max 150 words)__"
   ]
  },
  {
   "cell_type": "markdown",
   "id": "25059f1b-25c3-47eb-8278-903bd7608576",
   "metadata": {},
   "source": [
    "> 1. Centola's experiment used custom made data, meaning the environment and interactions were fully designed by the researchers. One big pro is that they could presicely trach how people's behaviour spread and after identify which factors caused these shifts. By designing the setup themselves, they can minimize unpredictable outside factors that might otherwise blur the results. The downside is that this highly controlled setting may not fully represent real world situations very well, so the findings may be less generalizable. On the other hand, Nicolaide's study used data collected from real people's everyday interactions. This makes the results more realistic, since it shows how people behave without being prompted by an experiment. However, ready-made data often includes many uncontrollable variables, making it harder to specify what led to certain outcomes. Researchers also risk missing important details if the data was not gathered with their specific research questions in mind. \n",
    "> 2. Centola's controlled envrionment lets us see precisely how each factor affects behaviour, making it easier to discuss cause and effect with confidence. But because people most people don't live under the tight conditions set by the experiment, we have to be careful about generalizing the results. Nicolaides' real world data gives a more realistic picture of how behaviours spread in everyday life, even though its harder to figure out which factors matter most, because theres more noise.  Therefore, we interpret Centola's findings with stronger centainty about specific influences, while Nicolaide's study shows how these processes play out in a natural setting. Both view can inform each other."
   ]
  },
  {
   "cell_type": "markdown",
   "id": "654c7606-9542-4ecd-9f6e-1c5e298883d6",
   "metadata": {},
   "source": [
    "## Part 3: Gathering Research Articles using the OpenAlex API\n",
    "Week 3, ex 1."
   ]
  },
  {
   "cell_type": "markdown",
   "id": "afed489a-1f99-4124-af1b-97f332fb0fe1",
   "metadata": {},
   "source": [
    "> **Exercise : Collecting Research Articles from IC2S2 Authors**\n",
    ">\n",
    ">In this exercise, we'll leverage the OpenAlex API to gather information on research articles authored by participants of the IC2S2 2024 (NOT 2023) conference, referred to as *IC2S2 authors*. **Before you start, please ensure you read through the entire exercise.**\n",
    ">\n",
    "> \n",
    "> **Steps:**\n",
    ">  \n",
    "> 1. **Retrieve Data:** Starting with the *authors* you identified in Week 2, Exercise 2, use the OpenAlex API [works endpoint](https://docs.openalex.org/api-entities/works) to fetch the research articles they have authored. For each article, retrieve the following details:\n",
    ">    - _id_: The unique OpenAlex ID for the work.\n",
    ">    - _publication_year_: The year the work was published.\n",
    ">    - _cited_by_count_: The number of times the work has been cited by other works.\n",
    ">    - _author_ids_: The OpenAlex IDs for the authors of the work.\n",
    ">    - _title_: The title of the work.\n",
    ">    - _abstract_inverted_index_: The abstract of the work, formatted as an inverted index.\n",
    "> \n",
    ">     **Important Note on Paging:** By default, the OpenAlex API limits responses to 25 works per request. For more efficient data retrieval, I suggest to adjust this limit to 200 works per request. Even with this adjustment, you will need to implement pagination to access all available works for a given query. This ensures you can systematically retrieve the complete set of works beyond the initial 200. Find guidance on implementing pagination [here](https://docs.openalex.org/how-to-use-the-api/get-lists-of-entities/paging#cursor-paging).\n",
    ">\n",
    "> 2. **Data Storage:** Organize the retrieved information into two Pandas DataFrames and save them to two files in a suitable format:\n",
    ">    - The *IC2S2 papers* dataset should include: *id, publication\\_year, cited\\_by\\_count, author\\_ids*.\n",
    ">    - The *IC2S2 abstracts* dataset should include: *id, title, abstract\\_inverted\\_index*.\n",
    ">  \n",
    ">\n",
    "> **Filters:**\n",
    "> To ensure the data we collect is relevant and manageable, apply the following filters:\n",
    "> \n",
    ">    - Only include *IC2S2 authors* with a total work count between 5 and 5,000.\n",
    ">    - Retrieve only works that have received more than 10 citations.\n",
    ">    - Limit to works authored by fewer than 10 individuals.\n",
    ">    - Include only works relevant to Computational Social Science (focusing on: Sociology OR Psychology OR Economics OR Political Science) AND intersecting with a quantitative discipline (Mathematics OR Physics OR Computer Science), as defined by their [Concepts](https://docs.openalex.org/api-entities/works/work-object#concepts). *Note*: here we only consider Concepts at *level=0* (the most coarse definition of concepts). \n",
    ">\n",
    "> **Efficiency Tips:**\n",
    "> Writing efficient code in this exercise is **crucial**. To speed up your process:\n",
    "> - **Apply filters directly in your request:** When possible, use the [filter parameter](https://docs.openalex.org/api-entities/works/filter-works) of the *works* endpoint to apply the filters above directly in your API request, ensuring only relevant data is returned. Learn about combining multiple filters [here](https://docs.openalex.org/how-to-use-the-api/get-lists-of-entities/filter-entity-lists).  \n",
    "> - **Bulk requests:** Instead of sending one request for each author, you can use the [filter parameter](https://docs.openalex.org/api-entities/works/filter-works) to query works by multiple authors in a single request. *Note: My testing suggests that can only include up to 25 authors per request.*\n",
    "> - **Use multiprocessing:** Implement multiprocessing to handle multiple requests simultaneously. I highly recommmend [Joblib’s Parallel](https://joblib.readthedocs.io/en/stable/) function for that, and [tqdm](https://tqdm.github.io/) can help monitor progress of your jobs. Remember to stay within [the rate limit](https://docs.openalex.org/how-to-use-the-api/rate-limits-and-authentication) of 10 requests per second.\n",
    ">\n",
    ">\n",
    ">   \n",
    "> For reference, employing these strategies allowed me to fetch the data in about 30 seconds using 5 cores on my laptop. I obtained a dataset of approximately 25 MB (including both the *IC2S2 abstracts* and *IC2S2 papers* files).\n",
    "> \n",
    ">\n",
    "> **Data Overview and Reflection questions:** Answer the following questions: \n",
    "> - **Dataset summary.** How many works are listed in your *IC2S2 papers* dataframe? How many unique researchers have co-authored these works? \n",
    "> - **Efficiency in code.** Describe the strategies you implemented to make your code more efficient. How did your approach affect your code's execution time? __(answer in max 150 words)__\n",
    "> - **Filtering Criteria and Dataset Relevance** Reflect on the rationale behind setting specific thresholds for the total number of works by an author, the citation count, the number of authors per work, and the relevance of works to specific fields. How do these filtering criteria contribute to the relevance of the dataset you compiled? Do you believe any aspects of Computational Social Science research might be underrepresented or overrepresented as a result of these choices? __(answer in max 150 words)__\n"
   ]
  },
  {
   "cell_type": "code",
   "execution_count": 6,
   "id": "440db472",
   "metadata": {},
   "outputs": [
    {
     "name": "stderr",
     "output_type": "stream",
     "text": [
      "100%|██████████| 32/32 [00:04<00:00,  7.82it/s]\n"
     ]
    },
    {
     "name": "stdout",
     "output_type": "stream",
     "text": [
      "Processing complete. Datasets saved.\n"
     ]
    }
   ],
   "source": [
    "import pandas as pd\n",
    "import requests\n",
    "import time\n",
    "from joblib import Parallel, delayed\n",
    "from tqdm import tqdm\n",
    "\n",
    "authors_data = pd.read_csv('authors_data_single_name_search.csv')\n",
    "\n",
    "URL = \"https://api.openalex.org/works\"\n",
    "\n",
    "BATCH_SIZE = 20\n",
    "\n",
    "def fetch_papers_for_authors(authors_batch, batch_index, total_batches):\n",
    "    papers_dataset = []\n",
    "    abstract_dataset = []\n",
    "\n",
    "    author_filters = '|'.join([f\"\\\"{author_id}\\\"\" for author_id in authors_batch])\n",
    "    \n",
    "    page = 1\n",
    "    while True:\n",
    "        params = {\n",
    "            \"filter\": f\"authorships.author.id:\\\"{author_filters}\\\",cited_by_count:>10,authors_count:<10\",\n",
    "            \"per_page\": 200,\n",
    "            \"page\": page\n",
    "        }\n",
    "\n",
    "        max_retries = 3\n",
    "        for attempt in range(max_retries):\n",
    "            try:\n",
    "                response = requests.get(URL, params=params, timeout=10).json()\n",
    "                break \n",
    "            except requests.exceptions.RequestException:\n",
    "                if attempt < max_retries - 1:\n",
    "                    time.sleep(5) \n",
    "                else:\n",
    "                    return [], [], f\"Skipping batch {batch_index} due to repeated request failures.\"\n",
    "\n",
    "    \n",
    "        if 'results' not in response or not response['results']:\n",
    "            break\n",
    "\n",
    "        for paper in response['results']:\n",
    "            first_concept, second_concept = False, False\n",
    "\n",
    "            for concept in paper.get('concepts', []):\n",
    "                if concept.get('level') != 0:\n",
    "                    continue\n",
    "                if concept.get('display_name') in ['Sociology', 'Psychology', 'Economics', 'Political Science']:\n",
    "                    first_concept = True\n",
    "                if concept.get('display_name') in ['Mathematics', 'Computer Science', 'Physics']:\n",
    "                    second_concept = True\n",
    "\n",
    "            if not (first_concept and second_concept):\n",
    "                continue\n",
    "\n",
    "            paper_info = {\n",
    "                'id': paper.get('id'),\n",
    "                'publication_year': paper.get('publication_year'),\n",
    "                'cited_by_count': paper.get('cited_by_count'),\n",
    "                'author_ids': ', '.join([author['author']['id'] for author in paper.get('authorships', [])]),\n",
    "            }\n",
    "            papers_dataset.append(paper_info)\n",
    "\n",
    "            abstract_info = {\n",
    "                'id': paper.get('id'),\n",
    "                'title': paper.get('title'),\n",
    "                'abstract_inverted_index': paper.get('abstract_inverted_index', '')\n",
    "            }\n",
    "            abstract_dataset.append(abstract_info)\n",
    "\n",
    "        page += 1\n",
    "\n",
    "    return papers_dataset, abstract_dataset\n",
    "\n",
    "valid_authors = authors_data[(authors_data['works_count'] >= 5) & (authors_data['works_count'] <= 5000)]['id'].tolist()\n",
    "\n",
    "batches = [valid_authors[i:i + BATCH_SIZE] for i in range(0, len(valid_authors), BATCH_SIZE)]\n",
    "\n",
    "# Run in parallel\n",
    "num_cores = 12  # Adjust based on your CPU\n",
    "results = Parallel(n_jobs=num_cores)(\n",
    "    delayed(fetch_papers_for_authors)(batch, idx, len(batches))\n",
    "    for idx, batch in tqdm(enumerate(batches), total=len(batches))\n",
    ")\n",
    "\n",
    "papers_dataset = [paper for res in results for paper in res[0]]\n",
    "abstract_dataset = [abstract for res in results for abstract in res[1]]\n",
    "\n",
    "df_papers = pd.DataFrame(papers_dataset)\n",
    "df_abstracts = pd.DataFrame(abstract_dataset)\n",
    "\n",
    "df_papers.to_csv('papers_dataset.csv', index=False)\n",
    "df_abstracts.to_csv('abstracts_dataset.csv', index=False)\n",
    "\n",
    "print(\"Processing complete. Datasets saved.\")\n"
   ]
  },
  {
   "cell_type": "code",
   "execution_count": 7,
   "id": "8673d596",
   "metadata": {},
   "outputs": [
    {
     "name": "stdout",
     "output_type": "stream",
     "text": [
      "3797 3797\n"
     ]
    }
   ],
   "source": [
    "print(len(df_papers), len(df_abstracts))"
   ]
  },
  {
   "cell_type": "code",
   "execution_count": 10,
   "id": "bfd04484",
   "metadata": {},
   "outputs": [
    {
     "data": {
      "text/plain": [
       "3104"
      ]
     },
     "execution_count": 10,
     "metadata": {},
     "output_type": "execute_result"
    }
   ],
   "source": [
    "df_papers['author_ids'].nunique()"
   ]
  },
  {
   "cell_type": "markdown",
   "id": "de03470d",
   "metadata": {},
   "source": [
    "There are 3797 works listed in my IC2S2 papers dataframe. Here there are 3104 unique co-authors for these works.\n",
    "\n",
    "To improve the efficiency of the code, joblib.parallel was implemented, which gave the biggest boost in efficiency. Searching for multiple authors at the same time also helped a lot, where it was chosen to search for 20 authors at a time, since this would be a very stable yet still effective number. I also added error handling & retries to prevent failures, so that if the api failed, it could just be retried, and the entire program wouldn't have to restart.\n",
    "\n",
    "For the choices of filtering, keeping the works count for an author between 5 and 5000 makes sure that we only have serious authors that both have actually contributed and also don't just put their name on anything. The filter that papers needed at least 10 citations is done to show that the papers have an actual impact, and the co-authors to fewer than 10 filter highlights more focused research. We also filtered for topics in computational social science, like sociology and somputer science, to keep the dataset relevant. However, this can make it so ones with topics in different fields that might still have great impact on computational social science, are filtered out."
   ]
  },
  {
   "cell_type": "markdown",
   "id": "9f72dca3-246a-4056-b99c-2f14ccef7fef",
   "metadata": {},
   "source": [
    "## Part 4: The Network of Computational Social Scientists\n",
    "Week 4, ex 1. Please use the final dataset you collected from both authors and co-authors (IC2S2 2024)."
   ]
  },
  {
   "cell_type": "markdown",
   "id": "2147f812-b857-4b46-a762-fcb8661cb47c",
   "metadata": {},
   "source": [
    "> **Exercise: Constructing the Computational Social Scientists Network**\n",
    ">\n",
    "> In this exercise, we will create a network of researchers in the field of Computational Social Science using the NetworkX library. In our network, nodes represent authors of academic papers, with a direct link from node _A_ to node _B_ indicating a joint paper written by both. The link's weight reflects the number of papers written by both _A_ and _B_.\n",
    ">\n",
    "> **Part 1: Network Construction**\n",
    ">\n",
    "> 1. **Weighted Edgelist Creation:** Start with your dataframe of *papers*. Construct a _weighted edgelist_ where each list element is a tuple containing three elements: the _author ids_ of two collaborating authors and the total number of papers they've co-authored. Ensure each author pair is listed only once. \n",
    ">\n",
    "> 2. **Graph Construction:**\n",
    ">    - Use NetworkX to create an undirected [``Graph``](https://networkx.org/documentation/stable/reference/classes/graph.html).\n",
    ">    - Employ the [`add_weighted_edges_from`](https://networkx.org/documentation/stable/reference/classes/generated/networkx.Graph.add_weighted_edges_from.html#networkx.Graph.add_weighted_edges_from) function to populate the graph with the weighted edgelist from step 1, creating a weighted, undirected graph.\n",
    ">\n",
    "> 3. **Node Attributes:**\n",
    ">    - For each node, add attributes for the author's _display name_, _country_, _citation count_, and the _year of their first publication_ in Computational Social Science. The _display name_ and _country_ can be retrieved from your _authors_ dataset. The _year of their first publication_ and the _citation count_  can be retrieved from the _papers_ dataset.\n",
    ">    - Save the network as a JSON file.\n",
    ">      \n",
    "> **Part 2: Preliminary Network Analysis**\n",
    "> Now, with the network constructed, perform a basic analysis to explore its features.\n",
    "> 1. **Network Metrics:**\n",
    ">    - What is the total number of nodes (authors) and links (collaborations) in the network? \n",
    ">    - Calculate the network's density (the ratio of actual links to the maximum possible number of links). Would you say that the network is sparse? Justify your answer.\n",
    ">    - Is the network fully connected (i.e., is there a direct or indirect path between every pair of nodes within the network), or is it disconnected?\n",
    ">    - If the network is disconnected, how many connected components does it have? A connected component is defined as a subset of nodes within the network where a path exists between any pair of nodes in that subset. \n",
    ">    - How many isolated nodes are there in your network?  An isolated node is defined as a node with no connections to any other node in the network.\n",
    ">    - Discuss the results above on network density, and connectivity. Are your findings in line with what you expected? Why?  __(answer in max 150 words)__\n",
    "> \n",
    "> 3. **Degree Analysis:**\n",
    ">    - Compute the average, median, mode, minimum, and maximum degree of the nodes. Perform the same analysis for node strength (weighted degree). What do these metrics tell us about the network? __(answer in max 150 words)__\n",
    "> \n",
    "> 4. **Top Authors:**\n",
    ">    - Identify the top 5 authors by degree. What role do these node play in the network? \n",
    ">    - Research these authors online. What areas do they specialize in? Do you think that their work aligns with the themes of Computational Social Science? If not, what could be possible reasons? __(answer in max 150 words)__\n"
   ]
  },
  {
   "cell_type": "code",
   "execution_count": null,
   "id": "35130cc2-dbf6-42db-8901-2475ede6444d",
   "metadata": {},
   "outputs": [],
   "source": []
  }
 ],
 "metadata": {
  "kernelspec": {
   "display_name": "Python 3",
   "language": "python",
   "name": "python3"
  },
  "language_info": {
   "codemirror_mode": {
    "name": "ipython",
    "version": 3
   },
   "file_extension": ".py",
   "mimetype": "text/x-python",
   "name": "python",
   "nbconvert_exporter": "python",
   "pygments_lexer": "ipython3",
   "version": "3.12.9"
  }
 },
 "nbformat": 4,
 "nbformat_minor": 5
}
